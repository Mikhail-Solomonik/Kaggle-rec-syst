{
 "cells": [
  {
   "cell_type": "markdown",
   "metadata": {},
   "source": [
    "Building a recommender system. Competition on Kaggle https://www.kaggle.com/c/sbermarket-internship-competition/overview\n",
    "\n",
    "As training data, a dataset with an order history of 20,000 users up to the cutoff date is presented, which separates the training and test data by time.\n",
    "\n",
    "train.csv:\n",
    "- user_id - unique user id\n",
    "- order_completed_at\n",
    "- order date\n",
    "- cart - list of unique categories (category_id) that the order consisted of\n",
    "\n",
    "As a prediction, for each user-category pair from the submit example, return 1 if the category will be present in the user's next order, or 0 otherwise. The category list for each user in the submit example is all the categories they have ever ordered."
   ]
  },
  {
   "cell_type": "markdown",
   "metadata": {},
   "source": [
    "# Primary analysis\n",
    "The first idea that comes to mind is to define ranking simply as the percentage of customer orders in which a particular category was purchased. This way we get an initial estimate of the probability of a category purchase by a customer, regardless of when the order was made. Let's calculate this share, but before that we will do a little exploratory analysis"
   ]
  },
  {
   "cell_type": "code",
   "execution_count": 9,
   "metadata": {
    "ExecuteTime": {
     "end_time": "2022-08-04T20:33:58.520749Z",
     "start_time": "2022-08-04T20:33:58.512751Z"
    }
   },
   "outputs": [],
   "source": [
    "import pandas as pd\n",
    "import numpy as np"
   ]
  },
  {
   "cell_type": "code",
   "execution_count": 10,
   "metadata": {
    "ExecuteTime": {
     "end_time": "2022-08-04T20:34:01.368756Z",
     "start_time": "2022-08-04T20:33:58.687751Z"
    }
   },
   "outputs": [],
   "source": [
    "df = pd.read_csv('train.csv.zip', compression='zip')\n",
    "sample = pd.read_csv('sample_submission.csv.zip', compression='zip')"
   ]
  },
  {
   "cell_type": "code",
   "execution_count": 11,
   "metadata": {
    "ExecuteTime": {
     "end_time": "2022-08-04T20:34:02.348750Z",
     "start_time": "2022-08-04T20:34:01.417752Z"
    }
   },
   "outputs": [],
   "source": [
    "df['order_completed_at'] = pd.to_datetime(df.order_completed_at)"
   ]
  },
  {
   "cell_type": "code",
   "execution_count": 12,
   "metadata": {
    "ExecuteTime": {
     "end_time": "2022-08-04T20:34:02.932751Z",
     "start_time": "2022-08-04T20:34:02.397752Z"
    }
   },
   "outputs": [
    {
     "data": {
      "text/html": [
       "<div>\n",
       "<style scoped>\n",
       "    .dataframe tbody tr th:only-of-type {\n",
       "        vertical-align: middle;\n",
       "    }\n",
       "\n",
       "    .dataframe tbody tr th {\n",
       "        vertical-align: top;\n",
       "    }\n",
       "\n",
       "    .dataframe thead th {\n",
       "        text-align: right;\n",
       "    }\n",
       "</style>\n",
       "<table border=\"1\" class=\"dataframe\">\n",
       "  <thead>\n",
       "    <tr style=\"text-align: right;\">\n",
       "      <th></th>\n",
       "      <th></th>\n",
       "      <th>cart</th>\n",
       "    </tr>\n",
       "    <tr>\n",
       "      <th>user_id</th>\n",
       "      <th>order_completed_at</th>\n",
       "      <th></th>\n",
       "    </tr>\n",
       "  </thead>\n",
       "  <tbody>\n",
       "    <tr>\n",
       "      <th rowspan=\"3\" valign=\"top\">0</th>\n",
       "      <th>2020-07-19 09:59:17</th>\n",
       "      <td>8</td>\n",
       "    </tr>\n",
       "    <tr>\n",
       "      <th>2020-08-24 08:55:32</th>\n",
       "      <td>25</td>\n",
       "    </tr>\n",
       "    <tr>\n",
       "      <th>2020-09-02 07:38:25</th>\n",
       "      <td>11</td>\n",
       "    </tr>\n",
       "    <tr>\n",
       "      <th rowspan=\"2\" valign=\"top\">1</th>\n",
       "      <th>2019-05-08 16:09:41</th>\n",
       "      <td>1</td>\n",
       "    </tr>\n",
       "    <tr>\n",
       "      <th>2020-01-17 14:44:23</th>\n",
       "      <td>6</td>\n",
       "    </tr>\n",
       "    <tr>\n",
       "      <th>...</th>\n",
       "      <th>...</th>\n",
       "      <td>...</td>\n",
       "    </tr>\n",
       "    <tr>\n",
       "      <th rowspan=\"2\" valign=\"top\">19998</th>\n",
       "      <th>2020-09-01 08:12:32</th>\n",
       "      <td>7</td>\n",
       "    </tr>\n",
       "    <tr>\n",
       "      <th>2020-09-02 15:03:23</th>\n",
       "      <td>4</td>\n",
       "    </tr>\n",
       "    <tr>\n",
       "      <th rowspan=\"3\" valign=\"top\">19999</th>\n",
       "      <th>2020-08-31 18:54:24</th>\n",
       "      <td>1</td>\n",
       "    </tr>\n",
       "    <tr>\n",
       "      <th>2020-08-31 19:32:08</th>\n",
       "      <td>1</td>\n",
       "    </tr>\n",
       "    <tr>\n",
       "      <th>2020-08-31 20:08:24</th>\n",
       "      <td>1</td>\n",
       "    </tr>\n",
       "  </tbody>\n",
       "</table>\n",
       "<p>209406 rows × 1 columns</p>\n",
       "</div>"
      ],
      "text/plain": [
       "                             cart\n",
       "user_id order_completed_at       \n",
       "0       2020-07-19 09:59:17     8\n",
       "        2020-08-24 08:55:32    25\n",
       "        2020-09-02 07:38:25    11\n",
       "1       2019-05-08 16:09:41     1\n",
       "        2020-01-17 14:44:23     6\n",
       "...                           ...\n",
       "19998   2020-09-01 08:12:32     7\n",
       "        2020-09-02 15:03:23     4\n",
       "19999   2020-08-31 18:54:24     1\n",
       "        2020-08-31 19:32:08     1\n",
       "        2020-08-31 20:08:24     1\n",
       "\n",
       "[209406 rows x 1 columns]"
      ]
     },
     "execution_count": 12,
     "metadata": {},
     "output_type": "execute_result"
    }
   ],
   "source": [
    "df.groupby(['user_id', 'order_completed_at']).count()\n",
    "\n",
    "# orders and the number of categories in them for each id"
   ]
  },
  {
   "cell_type": "code",
   "execution_count": 13,
   "metadata": {
    "ExecuteTime": {
     "end_time": "2022-08-04T20:34:03.551751Z",
     "start_time": "2022-08-04T20:34:02.996750Z"
    }
   },
   "outputs": [
    {
     "data": {
      "text/plain": [
       "[3,\n",
       " 4,\n",
       " 5,\n",
       " 6,\n",
       " 7,\n",
       " 8,\n",
       " 9,\n",
       " 10,\n",
       " 11,\n",
       " 12,\n",
       " 13,\n",
       " 14,\n",
       " 15,\n",
       " 16,\n",
       " 17,\n",
       " 18,\n",
       " 19,\n",
       " 20,\n",
       " 21,\n",
       " 22,\n",
       " 23,\n",
       " 24,\n",
       " 25,\n",
       " 26,\n",
       " 27,\n",
       " 28,\n",
       " 29,\n",
       " 30,\n",
       " 31,\n",
       " 32,\n",
       " 33,\n",
       " 34,\n",
       " 35,\n",
       " 36,\n",
       " 37,\n",
       " 38,\n",
       " 39,\n",
       " 40,\n",
       " 41,\n",
       " 42,\n",
       " 43,\n",
       " 44,\n",
       " 45,\n",
       " 46,\n",
       " 47,\n",
       " 48,\n",
       " 49,\n",
       " 50,\n",
       " 51,\n",
       " 52,\n",
       " 53,\n",
       " 54,\n",
       " 55,\n",
       " 56,\n",
       " 57,\n",
       " 58,\n",
       " 59,\n",
       " 60,\n",
       " 61,\n",
       " 62,\n",
       " 63,\n",
       " 64,\n",
       " 65,\n",
       " 66,\n",
       " 67,\n",
       " 68,\n",
       " 69,\n",
       " 70,\n",
       " 71,\n",
       " 72,\n",
       " 73,\n",
       " 74,\n",
       " 75,\n",
       " 76,\n",
       " 78,\n",
       " 79,\n",
       " 80,\n",
       " 81,\n",
       " 83,\n",
       " 85,\n",
       " 86,\n",
       " 87,\n",
       " 88,\n",
       " 90,\n",
       " 91,\n",
       " 92,\n",
       " 93,\n",
       " 94,\n",
       " 95,\n",
       " 97,\n",
       " 98,\n",
       " 99,\n",
       " 101,\n",
       " 104,\n",
       " 107,\n",
       " 108,\n",
       " 111,\n",
       " 113,\n",
       " 114,\n",
       " 115,\n",
       " 116,\n",
       " 119,\n",
       " 120,\n",
       " 124,\n",
       " 125,\n",
       " 126,\n",
       " 127,\n",
       " 133,\n",
       " 134,\n",
       " 137,\n",
       " 145,\n",
       " 154,\n",
       " 155,\n",
       " 163,\n",
       " 165,\n",
       " 187,\n",
       " 213]"
      ]
     },
     "execution_count": 13,
     "metadata": {},
     "output_type": "execute_result"
    }
   ],
   "source": [
    "sorted(df.groupby(['user_id', 'order_completed_at']).count().groupby('user_id').count()['cart'].unique())\n",
    "\n",
    "# List of the number of orders in the selection"
   ]
  },
  {
   "cell_type": "markdown",
   "metadata": {},
   "source": [
    "We will find the indexes of those people who are in the sample and we will do further analysis for them, since at this stage we assume that using the ratings of similar clients we will be able to find the rating of a certain client, so we are not interested in id's that are not in the sample."
   ]
  },
  {
   "cell_type": "code",
   "execution_count": 14,
   "metadata": {
    "ExecuteTime": {
     "end_time": "2022-08-04T20:34:04.768798Z",
     "start_time": "2022-08-04T20:34:03.600751Z"
    }
   },
   "outputs": [],
   "source": [
    "id_ind = list(set(sample['id'].apply(lambda x: int(x.split(';')[0])).values))\n",
    "\n",
    "# id that is in the sample"
   ]
  },
  {
   "cell_type": "code",
   "execution_count": 15,
   "metadata": {
    "ExecuteTime": {
     "end_time": "2022-08-04T20:34:05.978756Z",
     "start_time": "2022-08-04T20:34:04.834750Z"
    }
   },
   "outputs": [],
   "source": [
    "cat_ind = list(set(sample['id'].apply(lambda x: int(x.split(';')[1])).values))\n",
    "\n",
    "# indices of categories that are in the sample"
   ]
  },
  {
   "cell_type": "code",
   "execution_count": 16,
   "metadata": {
    "ExecuteTime": {
     "end_time": "2022-08-04T20:34:06.248797Z",
     "start_time": "2022-08-04T20:34:06.043751Z"
    },
    "scrolled": true
   },
   "outputs": [],
   "source": [
    "df_ind = df.query('user_id in @id_ind')\n",
    "\n",
    "# the indexes of observations we need"
   ]
  },
  {
   "cell_type": "markdown",
   "metadata": {},
   "source": [
    "# Simple share\n",
    "Now let's calculate the share of orders in which the category was present"
   ]
  },
  {
   "cell_type": "code",
   "execution_count": 17,
   "metadata": {
    "ExecuteTime": {
     "end_time": "2022-08-04T20:34:06.800752Z",
     "start_time": "2022-08-04T20:34:06.328751Z"
    }
   },
   "outputs": [
    {
     "data": {
      "text/plain": [
       "array([3, 9, 7, ..., 3, 3, 3], dtype=int64)"
      ]
     },
     "execution_count": 17,
     "metadata": {},
     "output_type": "execute_result"
    }
   ],
   "source": [
    "order_num = df_ind.groupby(['user_id', 'order_completed_at']).count().groupby('user_id').count().values.reshape(13036,)\n",
    "order_num\n",
    "\n",
    "# number of orders for id"
   ]
  },
  {
   "cell_type": "code",
   "execution_count": 18,
   "metadata": {
    "ExecuteTime": {
     "end_time": "2022-08-04T20:35:43.996017Z",
     "start_time": "2022-08-04T20:35:43.324018Z"
    },
    "scrolled": true
   },
   "outputs": [
    {
     "data": {
      "text/html": [
       "<div>\n",
       "<style scoped>\n",
       "    .dataframe tbody tr th:only-of-type {\n",
       "        vertical-align: middle;\n",
       "    }\n",
       "\n",
       "    .dataframe tbody tr th {\n",
       "        vertical-align: top;\n",
       "    }\n",
       "\n",
       "    .dataframe thead th {\n",
       "        text-align: right;\n",
       "    }\n",
       "</style>\n",
       "<table border=\"1\" class=\"dataframe\">\n",
       "  <thead>\n",
       "    <tr style=\"text-align: right;\">\n",
       "      <th></th>\n",
       "      <th></th>\n",
       "      <th>order_completed_at</th>\n",
       "    </tr>\n",
       "    <tr>\n",
       "      <th>user_id</th>\n",
       "      <th>cart</th>\n",
       "      <th></th>\n",
       "    </tr>\n",
       "  </thead>\n",
       "  <tbody>\n",
       "    <tr>\n",
       "      <th rowspan=\"5\" valign=\"top\">0</th>\n",
       "      <th>5</th>\n",
       "      <td>1</td>\n",
       "    </tr>\n",
       "    <tr>\n",
       "      <th>10</th>\n",
       "      <td>1</td>\n",
       "    </tr>\n",
       "    <tr>\n",
       "      <th>14</th>\n",
       "      <td>2</td>\n",
       "    </tr>\n",
       "    <tr>\n",
       "      <th>20</th>\n",
       "      <td>1</td>\n",
       "    </tr>\n",
       "    <tr>\n",
       "      <th>22</th>\n",
       "      <td>1</td>\n",
       "    </tr>\n",
       "    <tr>\n",
       "      <th>...</th>\n",
       "      <th>...</th>\n",
       "      <td>...</td>\n",
       "    </tr>\n",
       "    <tr>\n",
       "      <th rowspan=\"5\" valign=\"top\">19998</th>\n",
       "      <th>398</th>\n",
       "      <td>2</td>\n",
       "    </tr>\n",
       "    <tr>\n",
       "      <th>409</th>\n",
       "      <td>1</td>\n",
       "    </tr>\n",
       "    <tr>\n",
       "      <th>415</th>\n",
       "      <td>2</td>\n",
       "    </tr>\n",
       "    <tr>\n",
       "      <th>420</th>\n",
       "      <td>2</td>\n",
       "    </tr>\n",
       "    <tr>\n",
       "      <th>798</th>\n",
       "      <td>1</td>\n",
       "    </tr>\n",
       "  </tbody>\n",
       "</table>\n",
       "<p>790449 rows × 1 columns</p>\n",
       "</div>"
      ],
      "text/plain": [
       "              order_completed_at\n",
       "user_id cart                    \n",
       "0       5                      1\n",
       "        10                     1\n",
       "        14                     2\n",
       "        20                     1\n",
       "        22                     1\n",
       "...                          ...\n",
       "19998   398                    2\n",
       "        409                    1\n",
       "        415                    2\n",
       "        420                    2\n",
       "        798                    1\n",
       "\n",
       "[790449 rows x 1 columns]"
      ]
     },
     "execution_count": 18,
     "metadata": {},
     "output_type": "execute_result"
    }
   ],
   "source": [
    "cat_num = df_ind.groupby(['user_id', 'cart']).count()\n",
    "cat_num\n",
    "\n",
    "# how many orders had the category"
   ]
  },
  {
   "cell_type": "code",
   "execution_count": 19,
   "metadata": {
    "ExecuteTime": {
     "end_time": "2022-08-04T20:35:46.992017Z",
     "start_time": "2022-08-04T20:35:45.795018Z"
    }
   },
   "outputs": [],
   "source": [
    "div = []\n",
    "for i, j in zip(order_num, np.array(cat_num.groupby('user_id').count()['order_completed_at'])):\n",
    "    div.append((str(i)+' ') * j)\n",
    "div = np.array(list(map(int, ' '.join(div).split())))\n",
    "share = np.array(cat_num).reshape(790449,) / div\n",
    "share_df = df_ind.groupby(['user_id', 'cart']).count().reset_index().drop('order_completed_at', axis=1)\n",
    "share_df['share'] = share\n",
    "\n",
    "# Calculate the share of orders"
   ]
  },
  {
   "cell_type": "code",
   "execution_count": 20,
   "metadata": {
    "ExecuteTime": {
     "end_time": "2022-08-04T20:35:47.104023Z",
     "start_time": "2022-08-04T20:35:47.090019Z"
    }
   },
   "outputs": [
    {
     "data": {
      "text/html": [
       "<div>\n",
       "<style scoped>\n",
       "    .dataframe tbody tr th:only-of-type {\n",
       "        vertical-align: middle;\n",
       "    }\n",
       "\n",
       "    .dataframe tbody tr th {\n",
       "        vertical-align: top;\n",
       "    }\n",
       "\n",
       "    .dataframe thead th {\n",
       "        text-align: right;\n",
       "    }\n",
       "</style>\n",
       "<table border=\"1\" class=\"dataframe\">\n",
       "  <thead>\n",
       "    <tr style=\"text-align: right;\">\n",
       "      <th></th>\n",
       "      <th>user_id</th>\n",
       "      <th>cart</th>\n",
       "      <th>share</th>\n",
       "    </tr>\n",
       "  </thead>\n",
       "  <tbody>\n",
       "    <tr>\n",
       "      <th>0</th>\n",
       "      <td>0</td>\n",
       "      <td>5</td>\n",
       "      <td>0.333333</td>\n",
       "    </tr>\n",
       "    <tr>\n",
       "      <th>1</th>\n",
       "      <td>0</td>\n",
       "      <td>10</td>\n",
       "      <td>0.333333</td>\n",
       "    </tr>\n",
       "    <tr>\n",
       "      <th>2</th>\n",
       "      <td>0</td>\n",
       "      <td>14</td>\n",
       "      <td>0.666667</td>\n",
       "    </tr>\n",
       "    <tr>\n",
       "      <th>3</th>\n",
       "      <td>0</td>\n",
       "      <td>20</td>\n",
       "      <td>0.333333</td>\n",
       "    </tr>\n",
       "    <tr>\n",
       "      <th>4</th>\n",
       "      <td>0</td>\n",
       "      <td>22</td>\n",
       "      <td>0.333333</td>\n",
       "    </tr>\n",
       "    <tr>\n",
       "      <th>...</th>\n",
       "      <td>...</td>\n",
       "      <td>...</td>\n",
       "      <td>...</td>\n",
       "    </tr>\n",
       "    <tr>\n",
       "      <th>790444</th>\n",
       "      <td>19998</td>\n",
       "      <td>398</td>\n",
       "      <td>0.666667</td>\n",
       "    </tr>\n",
       "    <tr>\n",
       "      <th>790445</th>\n",
       "      <td>19998</td>\n",
       "      <td>409</td>\n",
       "      <td>0.333333</td>\n",
       "    </tr>\n",
       "    <tr>\n",
       "      <th>790446</th>\n",
       "      <td>19998</td>\n",
       "      <td>415</td>\n",
       "      <td>0.666667</td>\n",
       "    </tr>\n",
       "    <tr>\n",
       "      <th>790447</th>\n",
       "      <td>19998</td>\n",
       "      <td>420</td>\n",
       "      <td>0.666667</td>\n",
       "    </tr>\n",
       "    <tr>\n",
       "      <th>790448</th>\n",
       "      <td>19998</td>\n",
       "      <td>798</td>\n",
       "      <td>0.333333</td>\n",
       "    </tr>\n",
       "  </tbody>\n",
       "</table>\n",
       "<p>790449 rows × 3 columns</p>\n",
       "</div>"
      ],
      "text/plain": [
       "        user_id  cart     share\n",
       "0             0     5  0.333333\n",
       "1             0    10  0.333333\n",
       "2             0    14  0.666667\n",
       "3             0    20  0.333333\n",
       "4             0    22  0.333333\n",
       "...         ...   ...       ...\n",
       "790444    19998   398  0.666667\n",
       "790445    19998   409  0.333333\n",
       "790446    19998   415  0.666667\n",
       "790447    19998   420  0.666667\n",
       "790448    19998   798  0.333333\n",
       "\n",
       "[790449 rows x 3 columns]"
      ]
     },
     "execution_count": 20,
     "metadata": {},
     "output_type": "execute_result"
    }
   ],
   "source": [
    "share_df"
   ]
  },
  {
   "cell_type": "code",
   "execution_count": 21,
   "metadata": {
    "ExecuteTime": {
     "end_time": "2022-08-04T20:35:52.189070Z",
     "start_time": "2022-08-04T20:35:48.904017Z"
    }
   },
   "outputs": [],
   "source": [
    "sample['merge'] = list(zip(sample['id'].apply(lambda x: int(x.split(';')[0])).values, sample['id'].apply(lambda x: int(x.split(';')[1])).values))\n",
    "share_df['merge'] = list(zip(share_df['user_id'].values, share_df['cart'].values))\n",
    "\n",
    "# Create columns to join tables"
   ]
  },
  {
   "cell_type": "code",
   "execution_count": 22,
   "metadata": {
    "ExecuteTime": {
     "end_time": "2022-08-04T20:35:53.977017Z",
     "start_time": "2022-08-04T20:35:52.287017Z"
    }
   },
   "outputs": [],
   "source": [
    "result = sample.merge(share_df, on='merge')[['id', 'share']]"
   ]
  },
  {
   "cell_type": "code",
   "execution_count": 23,
   "metadata": {
    "ExecuteTime": {
     "end_time": "2022-08-04T20:35:54.119023Z",
     "start_time": "2022-08-04T20:35:54.090020Z"
    }
   },
   "outputs": [
    {
     "data": {
      "text/html": [
       "<div>\n",
       "<style scoped>\n",
       "    .dataframe tbody tr th:only-of-type {\n",
       "        vertical-align: middle;\n",
       "    }\n",
       "\n",
       "    .dataframe tbody tr th {\n",
       "        vertical-align: top;\n",
       "    }\n",
       "\n",
       "    .dataframe thead th {\n",
       "        text-align: right;\n",
       "    }\n",
       "</style>\n",
       "<table border=\"1\" class=\"dataframe\">\n",
       "  <thead>\n",
       "    <tr style=\"text-align: right;\">\n",
       "      <th></th>\n",
       "      <th>id</th>\n",
       "      <th>share</th>\n",
       "    </tr>\n",
       "  </thead>\n",
       "  <tbody>\n",
       "    <tr>\n",
       "      <th>0</th>\n",
       "      <td>0;133</td>\n",
       "      <td>0.333333</td>\n",
       "    </tr>\n",
       "    <tr>\n",
       "      <th>1</th>\n",
       "      <td>0;5</td>\n",
       "      <td>0.333333</td>\n",
       "    </tr>\n",
       "    <tr>\n",
       "      <th>2</th>\n",
       "      <td>0;10</td>\n",
       "      <td>0.333333</td>\n",
       "    </tr>\n",
       "    <tr>\n",
       "      <th>3</th>\n",
       "      <td>0;396</td>\n",
       "      <td>0.333333</td>\n",
       "    </tr>\n",
       "    <tr>\n",
       "      <th>4</th>\n",
       "      <td>0;14</td>\n",
       "      <td>0.666667</td>\n",
       "    </tr>\n",
       "    <tr>\n",
       "      <th>...</th>\n",
       "      <td>...</td>\n",
       "      <td>...</td>\n",
       "    </tr>\n",
       "    <tr>\n",
       "      <th>790444</th>\n",
       "      <td>19998;26</td>\n",
       "      <td>0.333333</td>\n",
       "    </tr>\n",
       "    <tr>\n",
       "      <th>790445</th>\n",
       "      <td>19998;31</td>\n",
       "      <td>0.333333</td>\n",
       "    </tr>\n",
       "    <tr>\n",
       "      <th>790446</th>\n",
       "      <td>19998;29</td>\n",
       "      <td>0.333333</td>\n",
       "    </tr>\n",
       "    <tr>\n",
       "      <th>790447</th>\n",
       "      <td>19998;798</td>\n",
       "      <td>0.333333</td>\n",
       "    </tr>\n",
       "    <tr>\n",
       "      <th>790448</th>\n",
       "      <td>19998;415</td>\n",
       "      <td>0.666667</td>\n",
       "    </tr>\n",
       "  </tbody>\n",
       "</table>\n",
       "<p>790449 rows × 2 columns</p>\n",
       "</div>"
      ],
      "text/plain": [
       "               id     share\n",
       "0           0;133  0.333333\n",
       "1             0;5  0.333333\n",
       "2            0;10  0.333333\n",
       "3           0;396  0.333333\n",
       "4            0;14  0.666667\n",
       "...           ...       ...\n",
       "790444   19998;26  0.333333\n",
       "790445   19998;31  0.333333\n",
       "790446   19998;29  0.333333\n",
       "790447  19998;798  0.333333\n",
       "790448  19998;415  0.666667\n",
       "\n",
       "[790449 rows x 2 columns]"
      ]
     },
     "execution_count": 23,
     "metadata": {},
     "output_type": "execute_result"
    }
   ],
   "source": [
    "result"
   ]
  },
  {
   "cell_type": "code",
   "execution_count": 24,
   "metadata": {
    "ExecuteTime": {
     "end_time": "2022-08-04T20:35:54.343065Z",
     "start_time": "2022-08-04T20:35:54.249019Z"
    }
   },
   "outputs": [],
   "source": [
    "result['target'] = 0\n",
    "result.loc[result[result['share'] >= 0.5].index , 'target'] = 1\n",
    "\n",
    "# Predict a purchase for all categories whose share is greater than 0.5"
   ]
  },
  {
   "cell_type": "code",
   "execution_count": 25,
   "metadata": {
    "ExecuteTime": {
     "end_time": "2022-08-04T20:35:56.131017Z",
     "start_time": "2022-08-04T20:35:54.458020Z"
    }
   },
   "outputs": [],
   "source": [
    "result[['id', 'target']].to_csv('submission1.csv', index=False)"
   ]
  },
  {
   "cell_type": "markdown",
   "metadata": {},
   "source": [
    "# Time structure analysis\n",
    "The next thought that comes to mind is to analyze how the probability of a purchase depends on later and earlier orders. It is logical to assume that orders that were made recently have more influence on a new order than older ones, since a person's preferences, favorite categories, and so on can change over time. To test this hypothesis, we calculate the average similarity between the first and last orders, as well as between the last and penultimate ones, then compare them and draw the appropriate conclusions. Similarity will be considered as the proportion of identical categories in orders"
   ]
  },
  {
   "cell_type": "code",
   "execution_count": 26,
   "metadata": {
    "ExecuteTime": {
     "end_time": "2022-08-04T20:35:56.701019Z",
     "start_time": "2022-08-04T20:35:56.275017Z"
    },
    "scrolled": true
   },
   "outputs": [
    {
     "data": {
      "text/html": [
       "<div>\n",
       "<style scoped>\n",
       "    .dataframe tbody tr th:only-of-type {\n",
       "        vertical-align: middle;\n",
       "    }\n",
       "\n",
       "    .dataframe tbody tr th {\n",
       "        vertical-align: top;\n",
       "    }\n",
       "\n",
       "    .dataframe thead th {\n",
       "        text-align: right;\n",
       "    }\n",
       "</style>\n",
       "<table border=\"1\" class=\"dataframe\">\n",
       "  <thead>\n",
       "    <tr style=\"text-align: right;\">\n",
       "      <th></th>\n",
       "      <th></th>\n",
       "      <th>cart</th>\n",
       "    </tr>\n",
       "    <tr>\n",
       "      <th>user_id</th>\n",
       "      <th>order_completed_at</th>\n",
       "      <th></th>\n",
       "    </tr>\n",
       "  </thead>\n",
       "  <tbody>\n",
       "    <tr>\n",
       "      <th rowspan=\"3\" valign=\"top\">0</th>\n",
       "      <th>2020-07-19 09:59:17</th>\n",
       "      <td>8</td>\n",
       "    </tr>\n",
       "    <tr>\n",
       "      <th>2020-08-24 08:55:32</th>\n",
       "      <td>25</td>\n",
       "    </tr>\n",
       "    <tr>\n",
       "      <th>2020-09-02 07:38:25</th>\n",
       "      <td>11</td>\n",
       "    </tr>\n",
       "    <tr>\n",
       "      <th rowspan=\"2\" valign=\"top\">1</th>\n",
       "      <th>2019-05-08 16:09:41</th>\n",
       "      <td>1</td>\n",
       "    </tr>\n",
       "    <tr>\n",
       "      <th>2020-01-17 14:44:23</th>\n",
       "      <td>6</td>\n",
       "    </tr>\n",
       "    <tr>\n",
       "      <th>...</th>\n",
       "      <th>...</th>\n",
       "      <td>...</td>\n",
       "    </tr>\n",
       "    <tr>\n",
       "      <th rowspan=\"2\" valign=\"top\">19997</th>\n",
       "      <th>2020-08-31 11:04:05</th>\n",
       "      <td>1</td>\n",
       "    </tr>\n",
       "    <tr>\n",
       "      <th>2020-08-31 11:48:23</th>\n",
       "      <td>17</td>\n",
       "    </tr>\n",
       "    <tr>\n",
       "      <th rowspan=\"3\" valign=\"top\">19998</th>\n",
       "      <th>2020-08-30 12:15:55</th>\n",
       "      <td>8</td>\n",
       "    </tr>\n",
       "    <tr>\n",
       "      <th>2020-09-01 08:12:32</th>\n",
       "      <td>7</td>\n",
       "    </tr>\n",
       "    <tr>\n",
       "      <th>2020-09-02 15:03:23</th>\n",
       "      <td>4</td>\n",
       "    </tr>\n",
       "  </tbody>\n",
       "</table>\n",
       "<p>160557 rows × 1 columns</p>\n",
       "</div>"
      ],
      "text/plain": [
       "                             cart\n",
       "user_id order_completed_at       \n",
       "0       2020-07-19 09:59:17     8\n",
       "        2020-08-24 08:55:32    25\n",
       "        2020-09-02 07:38:25    11\n",
       "1       2019-05-08 16:09:41     1\n",
       "        2020-01-17 14:44:23     6\n",
       "...                           ...\n",
       "19997   2020-08-31 11:04:05     1\n",
       "        2020-08-31 11:48:23    17\n",
       "19998   2020-08-30 12:15:55     8\n",
       "        2020-09-01 08:12:32     7\n",
       "        2020-09-02 15:03:23     4\n",
       "\n",
       "[160557 rows x 1 columns]"
      ]
     },
     "execution_count": 26,
     "metadata": {},
     "output_type": "execute_result"
    }
   ],
   "source": [
    "orders = df_ind.groupby(['user_id', 'order_completed_at']).count()\n",
    "orders"
   ]
  },
  {
   "cell_type": "code",
   "execution_count": 27,
   "metadata": {
    "ExecuteTime": {
     "end_time": "2022-08-04T20:36:03.151016Z",
     "start_time": "2022-08-04T20:35:57.417020Z"
    },
    "scrolled": true
   },
   "outputs": [],
   "source": [
    "sim_first = np.array([])\n",
    "random_ids = np.random.choice(id_ind, size=100, replace=False)\n",
    "\n",
    "for i in random_ids:\n",
    "    first = orders.loc[i].index[0]\n",
    "    last = orders.loc[i].index[-1]\n",
    "    first_set = set(df_ind[(df_ind['user_id'] == i) & (df_ind['order_completed_at'] == first)]['cart'])\n",
    "    last_set = set(df_ind[(df_ind['user_id'] == i) & (df_ind['order_completed_at'] == last)]['cart'])\n",
    "    union = sorted(list(first_set | last_set))\n",
    "    first_list = [0 for x in range(len(union))]\n",
    "    last_list = [0 for x in range(len(union))]\n",
    "    for i in first_set:\n",
    "        first_list[union.index(i)] = 1\n",
    "    for j in last_set:\n",
    "        last_list[union.index(j)] = 1\n",
    "    sim_first = np.append(sim_first, sum(np.array(first_list) + np.array(last_list) == 2) / len(first_list))\n",
    "    \n",
    "# Similarity between first and last order for 100 random id"
   ]
  },
  {
   "cell_type": "code",
   "execution_count": 28,
   "metadata": {
    "ExecuteTime": {
     "end_time": "2022-08-04T20:36:09.060017Z",
     "start_time": "2022-08-04T20:36:03.311017Z"
    }
   },
   "outputs": [],
   "source": [
    "sim_second = np.array([])\n",
    "\n",
    "for i in random_ids:\n",
    "    penult = orders.loc[i].index[-2]\n",
    "    last = orders.loc[i].index[-1]\n",
    "    penult_set = set(df_ind[(df_ind['user_id'] == i) & (df_ind['order_completed_at'] == penult)]['cart'])\n",
    "    last_set = set(df_ind[(df_ind['user_id'] == i) & (df_ind['order_completed_at'] == last)]['cart'])\n",
    "    union = sorted(list(penult_set | last_set))\n",
    "    penult_list = [0 for x in range(len(union))]\n",
    "    last_list = [0 for x in range(len(union))]\n",
    "    for i in penult_set:\n",
    "        penult_list[union.index(i)] = 1\n",
    "    for j in last_set:\n",
    "        last_list[union.index(j)] = 1\n",
    "    sim_second = np.append(sim_second, sum(np.array(penult_list) + np.array(last_list) == 2) / len(penult_list))\n",
    "    \n",
    "# Similarity between penultimate and last orders for 100 random id"
   ]
  },
  {
   "cell_type": "code",
   "execution_count": 29,
   "metadata": {
    "ExecuteTime": {
     "end_time": "2022-08-04T20:36:09.814017Z",
     "start_time": "2022-08-04T20:36:09.806017Z"
    }
   },
   "outputs": [
    {
     "name": "stdout",
     "output_type": "stream",
     "text": [
      "Similarity between orders:\n",
      "First and last = 0.181\n",
      "Before last and last = 0.232\n"
     ]
    }
   ],
   "source": [
    "print('Similarity between orders:\\nFirst and last = {:.3f}\\nBefore last and last = {:.3f}'.format(np.mean(sim_first), np.mean(sim_second)))"
   ]
  },
  {
   "cell_type": "markdown",
   "metadata": {},
   "source": [
    "# Modify share\n",
    "Indeed, the similarity between the last and penultimate orders is higher than between the last and first. It is worth taking this into account when calculating the share of the category in orders, since the latest orders should clearly have a larger contribution than the earlier ones.\n",
    "To get started, just calculate the share of the last three orders and make a prediction of 1 for those categories that were bought 2 or 3 times"
   ]
  },
  {
   "cell_type": "code",
   "execution_count": 30,
   "metadata": {
    "ExecuteTime": {
     "end_time": "2022-08-04T20:36:48.570017Z",
     "start_time": "2022-08-04T20:36:47.433020Z"
    }
   },
   "outputs": [
    {
     "name": "stdout",
     "output_type": "stream",
     "text": [
      "Number of orders: 3, id with this number of orders: 1888 pieces\n",
      "Number of orders: 4, id with this number of orders: 1465 pieces\n",
      "Number of orders: 5, id with this number of orders: 1195 pieces\n",
      "Number of orders: 6, id with this number of orders: 973 pieces\n",
      "Number of orders: 7, id with this number of orders: 817 pieces\n",
      "Number of orders: 8, id with this number of orders: 742 pieces\n",
      "Number of orders: 9, id with this number of orders: 611 pieces\n",
      "Number of orders: 10, id with this number of orders: 490 pieces\n",
      "Number of orders: 11, id with this number of orders: 412 pieces\n",
      "Number of orders: 12, id with this number of orders: 383 pieces\n",
      "Number of orders: 13, id with this number of orders: 344 pieces\n",
      "Number of orders: 14, id with this number of orders: 305 pieces\n",
      "Number of orders: 15, id with this number of orders: 306 pieces\n",
      "Number of orders: 16, id with this number of orders: 279 pieces\n",
      "Number of orders: 17, id with this number of orders: 218 pieces\n",
      "Number of orders: 18, id with this number of orders: 197 pieces\n",
      "Number of orders: 19, id with this number of orders: 196 pieces\n",
      "Number of orders: 20, id with this number of orders: 177 pieces\n",
      "Number of orders: 21, id with this number of orders: 160 pieces\n",
      "Number of orders: 22, id with this number of orders: 138 pieces\n",
      "Number of orders: 23, id with this number of orders: 112 pieces\n",
      "Number of orders: 24, id with this number of orders: 125 pieces\n",
      "Number of orders: 25, id with this number of orders: 120 pieces\n",
      "Number of orders: 26, id with this number of orders: 94 pieces\n",
      "Number of orders: 27, id with this number of orders: 85 pieces\n",
      "Number of orders: 28, id with this number of orders: 80 pieces\n",
      "Number of orders: 29, id with this number of orders: 60 pieces\n",
      "Number of orders: 30, id with this number of orders: 61 pieces\n",
      "Number of orders: 31, id with this number of orders: 54 pieces\n",
      "Number of orders: 32, id with this number of orders: 66 pieces\n",
      "Number of orders: 33, id with this number of orders: 44 pieces\n",
      "Number of orders: 34, id with this number of orders: 56 pieces\n",
      "Number of orders: 35, id with this number of orders: 48 pieces\n",
      "Number of orders: 36, id with this number of orders: 44 pieces\n",
      "Number of orders: 37, id with this number of orders: 43 pieces\n",
      "Number of orders: 38, id with this number of orders: 48 pieces\n",
      "Number of orders: 39, id with this number of orders: 39 pieces\n",
      "Number of orders: 40, id with this number of orders: 32 pieces\n",
      "Number of orders: 41, id with this number of orders: 26 pieces\n",
      "Number of orders: 42, id with this number of orders: 34 pieces\n",
      "Number of orders: 43, id with this number of orders: 31 pieces\n",
      "Number of orders: 44, id with this number of orders: 25 pieces\n",
      "Number of orders: 45, id with this number of orders: 24 pieces\n",
      "Number of orders: 46, id with this number of orders: 16 pieces\n",
      "Number of orders: 47, id with this number of orders: 20 pieces\n",
      "Number of orders: 48, id with this number of orders: 20 pieces\n",
      "Number of orders: 49, id with this number of orders: 13 pieces\n",
      "Number of orders: 50, id with this number of orders: 26 pieces\n",
      "Number of orders: 51, id with this number of orders: 24 pieces\n",
      "Number of orders: 52, id with this number of orders: 12 pieces\n",
      "Number of orders: 53, id with this number of orders: 15 pieces\n",
      "Number of orders: 54, id with this number of orders: 14 pieces\n",
      "Number of orders: 55, id with this number of orders: 10 pieces\n",
      "Number of orders: 56, id with this number of orders: 13 pieces\n",
      "Number of orders: 57, id with this number of orders: 9 pieces\n",
      "Number of orders: 58, id with this number of orders: 10 pieces\n",
      "Number of orders: 59, id with this number of orders: 8 pieces\n",
      "Number of orders: 60, id with this number of orders: 5 pieces\n",
      "Number of orders: 61, id with this number of orders: 6 pieces\n",
      "Number of orders: 62, id with this number of orders: 9 pieces\n",
      "Number of orders: 63, id with this number of orders: 10 pieces\n",
      "Number of orders: 64, id with this number of orders: 7 pieces\n",
      "Number of orders: 65, id with this number of orders: 7 pieces\n",
      "Number of orders: 66, id with this number of orders: 2 pieces\n",
      "Number of orders: 67, id with this number of orders: 3 pieces\n",
      "Number of orders: 68, id with this number of orders: 5 pieces\n",
      "Number of orders: 69, id with this number of orders: 10 pieces\n",
      "Number of orders: 70, id with this number of orders: 11 pieces\n",
      "Number of orders: 71, id with this number of orders: 7 pieces\n",
      "Number of orders: 72, id with this number of orders: 3 pieces\n",
      "Number of orders: 73, id with this number of orders: 2 pieces\n",
      "Number of orders: 74, id with this number of orders: 4 pieces\n",
      "Number of orders: 75, id with this number of orders: 8 pieces\n",
      "Number of orders: 76, id with this number of orders: 8 pieces\n",
      "Number of orders: 78, id with this number of orders: 5 pieces\n",
      "Number of orders: 79, id with this number of orders: 4 pieces\n",
      "Number of orders: 80, id with this number of orders: 2 pieces\n",
      "Number of orders: 81, id with this number of orders: 2 pieces\n",
      "Number of orders: 83, id with this number of orders: 3 pieces\n",
      "Number of orders: 85, id with this number of orders: 1 pieces\n",
      "Number of orders: 86, id with this number of orders: 2 pieces\n",
      "Number of orders: 87, id with this number of orders: 1 pieces\n",
      "Number of orders: 88, id with this number of orders: 1 pieces\n",
      "Number of orders: 90, id with this number of orders: 1 pieces\n",
      "Number of orders: 91, id with this number of orders: 3 pieces\n",
      "Number of orders: 92, id with this number of orders: 3 pieces\n",
      "Number of orders: 93, id with this number of orders: 1 pieces\n",
      "Number of orders: 94, id with this number of orders: 2 pieces\n",
      "Number of orders: 95, id with this number of orders: 1 pieces\n",
      "Number of orders: 97, id with this number of orders: 6 pieces\n",
      "Number of orders: 98, id with this number of orders: 2 pieces\n",
      "Number of orders: 99, id with this number of orders: 2 pieces\n",
      "Number of orders: 101, id with this number of orders: 1 pieces\n",
      "Number of orders: 104, id with this number of orders: 1 pieces\n",
      "Number of orders: 107, id with this number of orders: 1 pieces\n",
      "Number of orders: 108, id with this number of orders: 2 pieces\n",
      "Number of orders: 111, id with this number of orders: 3 pieces\n",
      "Number of orders: 113, id with this number of orders: 1 pieces\n",
      "Number of orders: 114, id with this number of orders: 2 pieces\n",
      "Number of orders: 116, id with this number of orders: 2 pieces\n",
      "Number of orders: 119, id with this number of orders: 1 pieces\n",
      "Number of orders: 120, id with this number of orders: 1 pieces\n",
      "Number of orders: 124, id with this number of orders: 1 pieces\n",
      "Number of orders: 125, id with this number of orders: 1 pieces\n",
      "Number of orders: 126, id with this number of orders: 2 pieces\n",
      "Number of orders: 127, id with this number of orders: 1 pieces\n",
      "Number of orders: 133, id with this number of orders: 1 pieces\n",
      "Number of orders: 134, id with this number of orders: 2 pieces\n",
      "Number of orders: 137, id with this number of orders: 1 pieces\n",
      "Number of orders: 145, id with this number of orders: 1 pieces\n",
      "Number of orders: 154, id with this number of orders: 1 pieces\n",
      "Number of orders: 155, id with this number of orders: 1 pieces\n",
      "Number of orders: 163, id with this number of orders: 1 pieces\n",
      "Number of orders: 165, id with this number of orders: 1 pieces\n",
      "Number of orders: 187, id with this number of orders: 1 pieces\n"
     ]
    }
   ],
   "source": [
    "a = df_ind.groupby(['user_id', 'order_completed_at']).count().groupby('user_id').count()['cart']\n",
    "for i in sorted(df_ind.groupby(['user_id', 'order_completed_at']).count().groupby('user_id').count()['cart'].unique()):\n",
    "    print('Number of orders: {}, id with this number of orders: {} pieces'.format(i, sum(a == i)))"
   ]
  },
  {
   "cell_type": "code",
   "execution_count": 23,
   "metadata": {
    "ExecuteTime": {
     "end_time": "2021-12-12T20:37:53.334297Z",
     "start_time": "2021-12-12T20:37:33.722160Z"
    },
    "scrolled": true
   },
   "outputs": [
    {
     "name": "stderr",
     "output_type": "stream",
     "text": [
      "C:\\Users\\solmi\\anaconda3\\lib\\site-packages\\ipykernel_launcher.py:1: SettingWithCopyWarning: \n",
      "A value is trying to be set on a copy of a slice from a DataFrame.\n",
      "Try using .loc[row_indexer,col_indexer] = value instead\n",
      "\n",
      "See the caveats in the documentation: https://pandas.pydata.org/pandas-docs/stable/user_guide/indexing.html#returning-a-view-versus-a-copy\n",
      "  \"\"\"Entry point for launching an IPython kernel.\n",
      "C:\\Users\\solmi\\anaconda3\\lib\\site-packages\\ipykernel_launcher.py:2: SettingWithCopyWarning: \n",
      "A value is trying to be set on a copy of a slice from a DataFrame.\n",
      "Try using .loc[row_indexer,col_indexer] = value instead\n",
      "\n",
      "See the caveats in the documentation: https://pandas.pydata.org/pandas-docs/stable/user_guide/indexing.html#returning-a-view-versus-a-copy\n",
      "  \n",
      "C:\\Users\\solmi\\anaconda3\\lib\\site-packages\\ipykernel_launcher.py:3: SettingWithCopyWarning: \n",
      "A value is trying to be set on a copy of a slice from a DataFrame.\n",
      "Try using .loc[row_indexer,col_indexer] = value instead\n",
      "\n",
      "See the caveats in the documentation: https://pandas.pydata.org/pandas-docs/stable/user_guide/indexing.html#returning-a-view-versus-a-copy\n",
      "  This is separate from the ipykernel package so we can avoid doing imports until\n",
      "C:\\Users\\solmi\\anaconda3\\lib\\site-packages\\ipykernel_launcher.py:5: SettingWithCopyWarning: \n",
      "A value is trying to be set on a copy of a slice from a DataFrame.\n",
      "Try using .loc[row_indexer,col_indexer] = value instead\n",
      "\n",
      "See the caveats in the documentation: https://pandas.pydata.org/pandas-docs/stable/user_guide/indexing.html#returning-a-view-versus-a-copy\n",
      "  \"\"\"\n",
      "C:\\Users\\solmi\\anaconda3\\lib\\site-packages\\pandas\\core\\indexing.py:1817: SettingWithCopyWarning: \n",
      "A value is trying to be set on a copy of a slice from a DataFrame.\n",
      "Try using .loc[row_indexer,col_indexer] = value instead\n",
      "\n",
      "See the caveats in the documentation: https://pandas.pydata.org/pandas-docs/stable/user_guide/indexing.html#returning-a-view-versus-a-copy\n",
      "  self._setitem_single_column(loc, value, pi)\n",
      "C:\\Users\\solmi\\anaconda3\\lib\\site-packages\\pandas\\core\\indexing.py:1817: SettingWithCopyWarning: \n",
      "A value is trying to be set on a copy of a slice from a DataFrame.\n",
      "Try using .loc[row_indexer,col_indexer] = value instead\n",
      "\n",
      "See the caveats in the documentation: https://pandas.pydata.org/pandas-docs/stable/user_guide/indexing.html#returning-a-view-versus-a-copy\n",
      "  self._setitem_single_column(loc, value, pi)\n",
      "C:\\Users\\solmi\\anaconda3\\lib\\site-packages\\pandas\\core\\indexing.py:1817: SettingWithCopyWarning: \n",
      "A value is trying to be set on a copy of a slice from a DataFrame.\n",
      "Try using .loc[row_indexer,col_indexer] = value instead\n",
      "\n",
      "See the caveats in the documentation: https://pandas.pydata.org/pandas-docs/stable/user_guide/indexing.html#returning-a-view-versus-a-copy\n",
      "  self._setitem_single_column(loc, value, pi)\n"
     ]
    }
   ],
   "source": [
    "df_ind['last_1'] = 0   # last order\n",
    "df_ind['last_2'] = 0   # penultimate order\n",
    "df_ind['last_3'] = 0   # penultimate order\n",
    "\n",
    "df_ind['user_id_time'] = list(zip(df_ind['user_id'], df_ind['order_completed_at']))\n",
    "\n",
    "ind1 = np.array(df_ind.groupby(['user_id', 'order_completed_at']).count().groupby('user_id').count()['cart']).cumsum() - 1\n",
    "val_id1 = list(orders.iloc[ind1].reset_index()['user_id'])\n",
    "val_time1 = list(orders.iloc[ind1].reset_index()['order_completed_at'])\n",
    "val_id_time1 = list(zip(val_id1, val_time1))\n",
    "df_ind.loc[df_ind.query('user_id_time in @val_id_time1').index, 'last_1'] = 1\n",
    "last_1 = df_ind.groupby(['user_id', 'cart']).sum()['last_1'].values\n",
    "share_df['last_1'] = last_1\n",
    "\n",
    "ind2 = np.array(df_ind.groupby(['user_id', 'order_completed_at']).count().groupby('user_id').count()['cart']).cumsum() - 2\n",
    "val_id2 = list(orders.iloc[ind2].reset_index()['user_id'])\n",
    "val_time2 = list(orders.iloc[ind2].reset_index()['order_completed_at'])\n",
    "val_id_time2 = list(zip(val_id2, val_time2))\n",
    "df_ind.loc[df_ind.query('user_id_time in @val_id_time2').index, 'last_2'] = 1\n",
    "last_2 = df_ind.groupby(['user_id', 'cart']).sum()['last_2'].values\n",
    "share_df['last_2'] = last_2\n",
    "\n",
    "ind3 = np.array(df_ind.groupby(['user_id', 'order_completed_at']).count().groupby('user_id').count()['cart']).cumsum() - 3\n",
    "val_id3 = list(orders.iloc[ind3].reset_index()['user_id'])\n",
    "val_time3 = list(orders.iloc[ind3].reset_index()['order_completed_at'])\n",
    "val_id_time3 = list(zip(val_id3, val_time3))\n",
    "df_ind.loc[df_ind.query('user_id_time in @val_id_time3').index, 'last_3'] = 1\n",
    "last_3 = df_ind.groupby(['user_id', 'cart']).sum()['last_3'].values\n",
    "share_df['last_3'] = last_3\n",
    "\n",
    "# Calculate binary features, whether the category was in the last three orders"
   ]
  },
  {
   "cell_type": "code",
   "execution_count": 24,
   "metadata": {
    "ExecuteTime": {
     "end_time": "2021-12-12T20:37:53.862300Z",
     "start_time": "2021-12-12T20:37:53.339299Z"
    }
   },
   "outputs": [
    {
     "data": {
      "text/html": [
       "<div>\n",
       "<style scoped>\n",
       "    .dataframe tbody tr th:only-of-type {\n",
       "        vertical-align: middle;\n",
       "    }\n",
       "\n",
       "    .dataframe tbody tr th {\n",
       "        vertical-align: top;\n",
       "    }\n",
       "\n",
       "    .dataframe thead th {\n",
       "        text-align: right;\n",
       "    }\n",
       "</style>\n",
       "<table border=\"1\" class=\"dataframe\">\n",
       "  <thead>\n",
       "    <tr style=\"text-align: right;\">\n",
       "      <th></th>\n",
       "      <th>user_id</th>\n",
       "      <th>cart</th>\n",
       "      <th>share</th>\n",
       "      <th>merge</th>\n",
       "      <th>last_1</th>\n",
       "      <th>last_2</th>\n",
       "      <th>last_3</th>\n",
       "      <th>target</th>\n",
       "    </tr>\n",
       "  </thead>\n",
       "  <tbody>\n",
       "    <tr>\n",
       "      <th>0</th>\n",
       "      <td>0</td>\n",
       "      <td>5</td>\n",
       "      <td>0.333333</td>\n",
       "      <td>(0, 5)</td>\n",
       "      <td>0</td>\n",
       "      <td>1</td>\n",
       "      <td>0</td>\n",
       "      <td>0</td>\n",
       "    </tr>\n",
       "    <tr>\n",
       "      <th>1</th>\n",
       "      <td>0</td>\n",
       "      <td>10</td>\n",
       "      <td>0.333333</td>\n",
       "      <td>(0, 10)</td>\n",
       "      <td>0</td>\n",
       "      <td>1</td>\n",
       "      <td>0</td>\n",
       "      <td>0</td>\n",
       "    </tr>\n",
       "    <tr>\n",
       "      <th>2</th>\n",
       "      <td>0</td>\n",
       "      <td>14</td>\n",
       "      <td>0.666667</td>\n",
       "      <td>(0, 14)</td>\n",
       "      <td>0</td>\n",
       "      <td>1</td>\n",
       "      <td>1</td>\n",
       "      <td>1</td>\n",
       "    </tr>\n",
       "    <tr>\n",
       "      <th>3</th>\n",
       "      <td>0</td>\n",
       "      <td>20</td>\n",
       "      <td>0.333333</td>\n",
       "      <td>(0, 20)</td>\n",
       "      <td>0</td>\n",
       "      <td>0</td>\n",
       "      <td>1</td>\n",
       "      <td>0</td>\n",
       "    </tr>\n",
       "    <tr>\n",
       "      <th>4</th>\n",
       "      <td>0</td>\n",
       "      <td>22</td>\n",
       "      <td>0.333333</td>\n",
       "      <td>(0, 22)</td>\n",
       "      <td>0</td>\n",
       "      <td>1</td>\n",
       "      <td>0</td>\n",
       "      <td>0</td>\n",
       "    </tr>\n",
       "    <tr>\n",
       "      <th>...</th>\n",
       "      <td>...</td>\n",
       "      <td>...</td>\n",
       "      <td>...</td>\n",
       "      <td>...</td>\n",
       "      <td>...</td>\n",
       "      <td>...</td>\n",
       "      <td>...</td>\n",
       "      <td>...</td>\n",
       "    </tr>\n",
       "    <tr>\n",
       "      <th>790444</th>\n",
       "      <td>19998</td>\n",
       "      <td>398</td>\n",
       "      <td>0.666667</td>\n",
       "      <td>(19998, 398)</td>\n",
       "      <td>0</td>\n",
       "      <td>1</td>\n",
       "      <td>1</td>\n",
       "      <td>1</td>\n",
       "    </tr>\n",
       "    <tr>\n",
       "      <th>790445</th>\n",
       "      <td>19998</td>\n",
       "      <td>409</td>\n",
       "      <td>0.333333</td>\n",
       "      <td>(19998, 409)</td>\n",
       "      <td>1</td>\n",
       "      <td>0</td>\n",
       "      <td>0</td>\n",
       "      <td>0</td>\n",
       "    </tr>\n",
       "    <tr>\n",
       "      <th>790446</th>\n",
       "      <td>19998</td>\n",
       "      <td>415</td>\n",
       "      <td>0.666667</td>\n",
       "      <td>(19998, 415)</td>\n",
       "      <td>0</td>\n",
       "      <td>1</td>\n",
       "      <td>1</td>\n",
       "      <td>1</td>\n",
       "    </tr>\n",
       "    <tr>\n",
       "      <th>790447</th>\n",
       "      <td>19998</td>\n",
       "      <td>420</td>\n",
       "      <td>0.666667</td>\n",
       "      <td>(19998, 420)</td>\n",
       "      <td>0</td>\n",
       "      <td>1</td>\n",
       "      <td>1</td>\n",
       "      <td>1</td>\n",
       "    </tr>\n",
       "    <tr>\n",
       "      <th>790448</th>\n",
       "      <td>19998</td>\n",
       "      <td>798</td>\n",
       "      <td>0.333333</td>\n",
       "      <td>(19998, 798)</td>\n",
       "      <td>1</td>\n",
       "      <td>0</td>\n",
       "      <td>0</td>\n",
       "      <td>0</td>\n",
       "    </tr>\n",
       "  </tbody>\n",
       "</table>\n",
       "<p>790449 rows × 8 columns</p>\n",
       "</div>"
      ],
      "text/plain": [
       "        user_id  cart     share         merge  last_1  last_2  last_3  target\n",
       "0             0     5  0.333333        (0, 5)       0       1       0       0\n",
       "1             0    10  0.333333       (0, 10)       0       1       0       0\n",
       "2             0    14  0.666667       (0, 14)       0       1       1       1\n",
       "3             0    20  0.333333       (0, 20)       0       0       1       0\n",
       "4             0    22  0.333333       (0, 22)       0       1       0       0\n",
       "...         ...   ...       ...           ...     ...     ...     ...     ...\n",
       "790444    19998   398  0.666667  (19998, 398)       0       1       1       1\n",
       "790445    19998   409  0.333333  (19998, 409)       1       0       0       0\n",
       "790446    19998   415  0.666667  (19998, 415)       0       1       1       1\n",
       "790447    19998   420  0.666667  (19998, 420)       0       1       1       1\n",
       "790448    19998   798  0.333333  (19998, 798)       1       0       0       0\n",
       "\n",
       "[790449 rows x 8 columns]"
      ]
     },
     "execution_count": 24,
     "metadata": {},
     "output_type": "execute_result"
    }
   ],
   "source": [
    "share_df['target'] = 0\n",
    "share_df.loc[share_df.query('last_1 + last_2 + last_3 in [2, 3]').index, 'target'] = 1\n",
    "share_df\n",
    "\n",
    "# Calculate new target"
   ]
  },
  {
   "cell_type": "code",
   "execution_count": 25,
   "metadata": {
    "ExecuteTime": {
     "end_time": "2021-12-12T20:37:56.128346Z",
     "start_time": "2021-12-12T20:37:53.864299Z"
    }
   },
   "outputs": [],
   "source": [
    "result2 = sample.merge(share_df, on='merge').rename(columns={'target_y': 'target'})[['id', 'target']]"
   ]
  },
  {
   "cell_type": "code",
   "execution_count": 26,
   "metadata": {
    "ExecuteTime": {
     "end_time": "2021-12-12T20:37:57.792300Z",
     "start_time": "2021-12-12T20:37:56.130301Z"
    }
   },
   "outputs": [],
   "source": [
    "result2[['id', 'target']].to_csv('submission2.csv', index=False)"
   ]
  },
  {
   "cell_type": "markdown",
   "metadata": {},
   "source": [
    "There is an idea in finance that the best predictor of an asset's price is its current price. Let's take advantage of this and just predict the categories in the next purchase by the categories that were last purchased."
   ]
  },
  {
   "cell_type": "code",
   "execution_count": 27,
   "metadata": {
    "ExecuteTime": {
     "end_time": "2021-12-12T20:38:00.204299Z",
     "start_time": "2021-12-12T20:37:57.795300Z"
    }
   },
   "outputs": [],
   "source": [
    "result3 = sample.merge(share_df, on='merge').rename(columns={'last_1': 'target'})[['id', 'target']]"
   ]
  },
  {
   "cell_type": "code",
   "execution_count": 28,
   "metadata": {
    "ExecuteTime": {
     "end_time": "2021-12-12T20:38:02.051298Z",
     "start_time": "2021-12-12T20:38:00.206299Z"
    }
   },
   "outputs": [],
   "source": [
    "result3[['id', 'target']].to_csv('submission3.csv', index=False)"
   ]
  },
  {
   "cell_type": "markdown",
   "metadata": {},
   "source": [
    "As already established, the similarity of orders decreases over time, so we find the weighted average of the last three orders. Let's take a weight of 0.5 for the last order, 0.3 for the penultimate order, and 0.2 for the penultimate order and predict 1 for a weighted average >= 0.5. Thus, the prediction will be similar to the usual share of the last three orders, but for all categories that were in the last order, one will be predicted. Some combination of the previous two solutions will turn out"
   ]
  },
  {
   "cell_type": "code",
   "execution_count": 29,
   "metadata": {
    "ExecuteTime": {
     "end_time": "2021-12-12T20:38:02.243299Z",
     "start_time": "2021-12-12T20:38:02.053298Z"
    }
   },
   "outputs": [
    {
     "data": {
      "text/html": [
       "<div>\n",
       "<style scoped>\n",
       "    .dataframe tbody tr th:only-of-type {\n",
       "        vertical-align: middle;\n",
       "    }\n",
       "\n",
       "    .dataframe tbody tr th {\n",
       "        vertical-align: top;\n",
       "    }\n",
       "\n",
       "    .dataframe thead th {\n",
       "        text-align: right;\n",
       "    }\n",
       "</style>\n",
       "<table border=\"1\" class=\"dataframe\">\n",
       "  <thead>\n",
       "    <tr style=\"text-align: right;\">\n",
       "      <th></th>\n",
       "      <th>user_id</th>\n",
       "      <th>cart</th>\n",
       "      <th>share</th>\n",
       "      <th>merge</th>\n",
       "      <th>last_1</th>\n",
       "      <th>last_2</th>\n",
       "      <th>last_3</th>\n",
       "      <th>target</th>\n",
       "      <th>target_w</th>\n",
       "    </tr>\n",
       "  </thead>\n",
       "  <tbody>\n",
       "    <tr>\n",
       "      <th>0</th>\n",
       "      <td>0</td>\n",
       "      <td>5</td>\n",
       "      <td>0.333333</td>\n",
       "      <td>(0, 5)</td>\n",
       "      <td>0</td>\n",
       "      <td>1</td>\n",
       "      <td>0</td>\n",
       "      <td>0</td>\n",
       "      <td>0</td>\n",
       "    </tr>\n",
       "    <tr>\n",
       "      <th>1</th>\n",
       "      <td>0</td>\n",
       "      <td>10</td>\n",
       "      <td>0.333333</td>\n",
       "      <td>(0, 10)</td>\n",
       "      <td>0</td>\n",
       "      <td>1</td>\n",
       "      <td>0</td>\n",
       "      <td>0</td>\n",
       "      <td>0</td>\n",
       "    </tr>\n",
       "    <tr>\n",
       "      <th>2</th>\n",
       "      <td>0</td>\n",
       "      <td>14</td>\n",
       "      <td>0.666667</td>\n",
       "      <td>(0, 14)</td>\n",
       "      <td>0</td>\n",
       "      <td>1</td>\n",
       "      <td>1</td>\n",
       "      <td>1</td>\n",
       "      <td>1</td>\n",
       "    </tr>\n",
       "    <tr>\n",
       "      <th>3</th>\n",
       "      <td>0</td>\n",
       "      <td>20</td>\n",
       "      <td>0.333333</td>\n",
       "      <td>(0, 20)</td>\n",
       "      <td>0</td>\n",
       "      <td>0</td>\n",
       "      <td>1</td>\n",
       "      <td>0</td>\n",
       "      <td>0</td>\n",
       "    </tr>\n",
       "    <tr>\n",
       "      <th>4</th>\n",
       "      <td>0</td>\n",
       "      <td>22</td>\n",
       "      <td>0.333333</td>\n",
       "      <td>(0, 22)</td>\n",
       "      <td>0</td>\n",
       "      <td>1</td>\n",
       "      <td>0</td>\n",
       "      <td>0</td>\n",
       "      <td>0</td>\n",
       "    </tr>\n",
       "    <tr>\n",
       "      <th>...</th>\n",
       "      <td>...</td>\n",
       "      <td>...</td>\n",
       "      <td>...</td>\n",
       "      <td>...</td>\n",
       "      <td>...</td>\n",
       "      <td>...</td>\n",
       "      <td>...</td>\n",
       "      <td>...</td>\n",
       "      <td>...</td>\n",
       "    </tr>\n",
       "    <tr>\n",
       "      <th>790444</th>\n",
       "      <td>19998</td>\n",
       "      <td>398</td>\n",
       "      <td>0.666667</td>\n",
       "      <td>(19998, 398)</td>\n",
       "      <td>0</td>\n",
       "      <td>1</td>\n",
       "      <td>1</td>\n",
       "      <td>1</td>\n",
       "      <td>1</td>\n",
       "    </tr>\n",
       "    <tr>\n",
       "      <th>790445</th>\n",
       "      <td>19998</td>\n",
       "      <td>409</td>\n",
       "      <td>0.333333</td>\n",
       "      <td>(19998, 409)</td>\n",
       "      <td>1</td>\n",
       "      <td>0</td>\n",
       "      <td>0</td>\n",
       "      <td>0</td>\n",
       "      <td>1</td>\n",
       "    </tr>\n",
       "    <tr>\n",
       "      <th>790446</th>\n",
       "      <td>19998</td>\n",
       "      <td>415</td>\n",
       "      <td>0.666667</td>\n",
       "      <td>(19998, 415)</td>\n",
       "      <td>0</td>\n",
       "      <td>1</td>\n",
       "      <td>1</td>\n",
       "      <td>1</td>\n",
       "      <td>1</td>\n",
       "    </tr>\n",
       "    <tr>\n",
       "      <th>790447</th>\n",
       "      <td>19998</td>\n",
       "      <td>420</td>\n",
       "      <td>0.666667</td>\n",
       "      <td>(19998, 420)</td>\n",
       "      <td>0</td>\n",
       "      <td>1</td>\n",
       "      <td>1</td>\n",
       "      <td>1</td>\n",
       "      <td>1</td>\n",
       "    </tr>\n",
       "    <tr>\n",
       "      <th>790448</th>\n",
       "      <td>19998</td>\n",
       "      <td>798</td>\n",
       "      <td>0.333333</td>\n",
       "      <td>(19998, 798)</td>\n",
       "      <td>1</td>\n",
       "      <td>0</td>\n",
       "      <td>0</td>\n",
       "      <td>0</td>\n",
       "      <td>1</td>\n",
       "    </tr>\n",
       "  </tbody>\n",
       "</table>\n",
       "<p>790449 rows × 9 columns</p>\n",
       "</div>"
      ],
      "text/plain": [
       "        user_id  cart     share         merge  last_1  last_2  last_3  target  \\\n",
       "0             0     5  0.333333        (0, 5)       0       1       0       0   \n",
       "1             0    10  0.333333       (0, 10)       0       1       0       0   \n",
       "2             0    14  0.666667       (0, 14)       0       1       1       1   \n",
       "3             0    20  0.333333       (0, 20)       0       0       1       0   \n",
       "4             0    22  0.333333       (0, 22)       0       1       0       0   \n",
       "...         ...   ...       ...           ...     ...     ...     ...     ...   \n",
       "790444    19998   398  0.666667  (19998, 398)       0       1       1       1   \n",
       "790445    19998   409  0.333333  (19998, 409)       1       0       0       0   \n",
       "790446    19998   415  0.666667  (19998, 415)       0       1       1       1   \n",
       "790447    19998   420  0.666667  (19998, 420)       0       1       1       1   \n",
       "790448    19998   798  0.333333  (19998, 798)       1       0       0       0   \n",
       "\n",
       "        target_w  \n",
       "0              0  \n",
       "1              0  \n",
       "2              1  \n",
       "3              0  \n",
       "4              0  \n",
       "...          ...  \n",
       "790444         1  \n",
       "790445         1  \n",
       "790446         1  \n",
       "790447         1  \n",
       "790448         1  \n",
       "\n",
       "[790449 rows x 9 columns]"
      ]
     },
     "execution_count": 29,
     "metadata": {},
     "output_type": "execute_result"
    }
   ],
   "source": [
    "share_df['target_w'] = 0\n",
    "share_df.loc[share_df.query('last_1*0.5 + last_2*0.3 + last_3*0.2 >= 0.5').index, 'target_w'] = 1\n",
    "share_df"
   ]
  },
  {
   "cell_type": "code",
   "execution_count": 30,
   "metadata": {
    "ExecuteTime": {
     "end_time": "2021-12-12T20:38:04.727298Z",
     "start_time": "2021-12-12T20:38:02.245299Z"
    }
   },
   "outputs": [],
   "source": [
    "result4 = sample.merge(share_df, on='merge').rename(columns={'target_w': 'target'})[['id', 'target']]"
   ]
  },
  {
   "cell_type": "code",
   "execution_count": 31,
   "metadata": {
    "ExecuteTime": {
     "end_time": "2021-12-12T20:38:06.531300Z",
     "start_time": "2021-12-12T20:38:04.730298Z"
    }
   },
   "outputs": [],
   "source": [
    "result4[['id', 'target']].to_csv('submission4.csv', index=False)"
   ]
  },
  {
   "cell_type": "markdown",
   "metadata": {
    "ExecuteTime": {
     "end_time": "2021-12-09T00:47:32.387446Z",
     "start_time": "2021-12-09T00:21:38.801Z"
    }
   },
   "source": [
    "Now predict 1 for all categories with a share greater than 0.5, and which were in the last 3 orders"
   ]
  },
  {
   "cell_type": "code",
   "execution_count": 32,
   "metadata": {
    "ExecuteTime": {
     "end_time": "2021-12-12T20:38:06.749299Z",
     "start_time": "2021-12-12T20:38:06.533299Z"
    }
   },
   "outputs": [
    {
     "data": {
      "text/html": [
       "<div>\n",
       "<style scoped>\n",
       "    .dataframe tbody tr th:only-of-type {\n",
       "        vertical-align: middle;\n",
       "    }\n",
       "\n",
       "    .dataframe tbody tr th {\n",
       "        vertical-align: top;\n",
       "    }\n",
       "\n",
       "    .dataframe thead th {\n",
       "        text-align: right;\n",
       "    }\n",
       "</style>\n",
       "<table border=\"1\" class=\"dataframe\">\n",
       "  <thead>\n",
       "    <tr style=\"text-align: right;\">\n",
       "      <th></th>\n",
       "      <th>user_id</th>\n",
       "      <th>cart</th>\n",
       "      <th>share</th>\n",
       "      <th>merge</th>\n",
       "      <th>last_1</th>\n",
       "      <th>last_2</th>\n",
       "      <th>last_3</th>\n",
       "      <th>target</th>\n",
       "      <th>target_w</th>\n",
       "      <th>target_1</th>\n",
       "    </tr>\n",
       "  </thead>\n",
       "  <tbody>\n",
       "    <tr>\n",
       "      <th>0</th>\n",
       "      <td>0</td>\n",
       "      <td>5</td>\n",
       "      <td>0.333333</td>\n",
       "      <td>(0, 5)</td>\n",
       "      <td>0</td>\n",
       "      <td>1</td>\n",
       "      <td>0</td>\n",
       "      <td>0</td>\n",
       "      <td>0</td>\n",
       "      <td>0</td>\n",
       "    </tr>\n",
       "    <tr>\n",
       "      <th>1</th>\n",
       "      <td>0</td>\n",
       "      <td>10</td>\n",
       "      <td>0.333333</td>\n",
       "      <td>(0, 10)</td>\n",
       "      <td>0</td>\n",
       "      <td>1</td>\n",
       "      <td>0</td>\n",
       "      <td>0</td>\n",
       "      <td>0</td>\n",
       "      <td>0</td>\n",
       "    </tr>\n",
       "    <tr>\n",
       "      <th>2</th>\n",
       "      <td>0</td>\n",
       "      <td>14</td>\n",
       "      <td>0.666667</td>\n",
       "      <td>(0, 14)</td>\n",
       "      <td>0</td>\n",
       "      <td>1</td>\n",
       "      <td>1</td>\n",
       "      <td>1</td>\n",
       "      <td>1</td>\n",
       "      <td>1</td>\n",
       "    </tr>\n",
       "    <tr>\n",
       "      <th>3</th>\n",
       "      <td>0</td>\n",
       "      <td>20</td>\n",
       "      <td>0.333333</td>\n",
       "      <td>(0, 20)</td>\n",
       "      <td>0</td>\n",
       "      <td>0</td>\n",
       "      <td>1</td>\n",
       "      <td>0</td>\n",
       "      <td>0</td>\n",
       "      <td>0</td>\n",
       "    </tr>\n",
       "    <tr>\n",
       "      <th>4</th>\n",
       "      <td>0</td>\n",
       "      <td>22</td>\n",
       "      <td>0.333333</td>\n",
       "      <td>(0, 22)</td>\n",
       "      <td>0</td>\n",
       "      <td>1</td>\n",
       "      <td>0</td>\n",
       "      <td>0</td>\n",
       "      <td>0</td>\n",
       "      <td>0</td>\n",
       "    </tr>\n",
       "    <tr>\n",
       "      <th>...</th>\n",
       "      <td>...</td>\n",
       "      <td>...</td>\n",
       "      <td>...</td>\n",
       "      <td>...</td>\n",
       "      <td>...</td>\n",
       "      <td>...</td>\n",
       "      <td>...</td>\n",
       "      <td>...</td>\n",
       "      <td>...</td>\n",
       "      <td>...</td>\n",
       "    </tr>\n",
       "    <tr>\n",
       "      <th>790444</th>\n",
       "      <td>19998</td>\n",
       "      <td>398</td>\n",
       "      <td>0.666667</td>\n",
       "      <td>(19998, 398)</td>\n",
       "      <td>0</td>\n",
       "      <td>1</td>\n",
       "      <td>1</td>\n",
       "      <td>1</td>\n",
       "      <td>1</td>\n",
       "      <td>1</td>\n",
       "    </tr>\n",
       "    <tr>\n",
       "      <th>790445</th>\n",
       "      <td>19998</td>\n",
       "      <td>409</td>\n",
       "      <td>0.333333</td>\n",
       "      <td>(19998, 409)</td>\n",
       "      <td>1</td>\n",
       "      <td>0</td>\n",
       "      <td>0</td>\n",
       "      <td>0</td>\n",
       "      <td>1</td>\n",
       "      <td>0</td>\n",
       "    </tr>\n",
       "    <tr>\n",
       "      <th>790446</th>\n",
       "      <td>19998</td>\n",
       "      <td>415</td>\n",
       "      <td>0.666667</td>\n",
       "      <td>(19998, 415)</td>\n",
       "      <td>0</td>\n",
       "      <td>1</td>\n",
       "      <td>1</td>\n",
       "      <td>1</td>\n",
       "      <td>1</td>\n",
       "      <td>1</td>\n",
       "    </tr>\n",
       "    <tr>\n",
       "      <th>790447</th>\n",
       "      <td>19998</td>\n",
       "      <td>420</td>\n",
       "      <td>0.666667</td>\n",
       "      <td>(19998, 420)</td>\n",
       "      <td>0</td>\n",
       "      <td>1</td>\n",
       "      <td>1</td>\n",
       "      <td>1</td>\n",
       "      <td>1</td>\n",
       "      <td>1</td>\n",
       "    </tr>\n",
       "    <tr>\n",
       "      <th>790448</th>\n",
       "      <td>19998</td>\n",
       "      <td>798</td>\n",
       "      <td>0.333333</td>\n",
       "      <td>(19998, 798)</td>\n",
       "      <td>1</td>\n",
       "      <td>0</td>\n",
       "      <td>0</td>\n",
       "      <td>0</td>\n",
       "      <td>1</td>\n",
       "      <td>0</td>\n",
       "    </tr>\n",
       "  </tbody>\n",
       "</table>\n",
       "<p>790449 rows × 10 columns</p>\n",
       "</div>"
      ],
      "text/plain": [
       "        user_id  cart     share         merge  last_1  last_2  last_3  target  \\\n",
       "0             0     5  0.333333        (0, 5)       0       1       0       0   \n",
       "1             0    10  0.333333       (0, 10)       0       1       0       0   \n",
       "2             0    14  0.666667       (0, 14)       0       1       1       1   \n",
       "3             0    20  0.333333       (0, 20)       0       0       1       0   \n",
       "4             0    22  0.333333       (0, 22)       0       1       0       0   \n",
       "...         ...   ...       ...           ...     ...     ...     ...     ...   \n",
       "790444    19998   398  0.666667  (19998, 398)       0       1       1       1   \n",
       "790445    19998   409  0.333333  (19998, 409)       1       0       0       0   \n",
       "790446    19998   415  0.666667  (19998, 415)       0       1       1       1   \n",
       "790447    19998   420  0.666667  (19998, 420)       0       1       1       1   \n",
       "790448    19998   798  0.333333  (19998, 798)       1       0       0       0   \n",
       "\n",
       "        target_w  target_1  \n",
       "0              0         0  \n",
       "1              0         0  \n",
       "2              1         1  \n",
       "3              0         0  \n",
       "4              0         0  \n",
       "...          ...       ...  \n",
       "790444         1         1  \n",
       "790445         1         0  \n",
       "790446         1         1  \n",
       "790447         1         1  \n",
       "790448         1         0  \n",
       "\n",
       "[790449 rows x 10 columns]"
      ]
     },
     "execution_count": 32,
     "metadata": {},
     "output_type": "execute_result"
    }
   ],
   "source": [
    "share_df['target_1'] = 0\n",
    "share_df.loc[share_df.query('share >= 0.5').index, 'target_1'] = 1\n",
    "share_df.loc[share_df.query('last_1 + last_2 + last_3 == 3').index, 'target_1'] = 1\n",
    "share_df"
   ]
  },
  {
   "cell_type": "code",
   "execution_count": 33,
   "metadata": {
    "ExecuteTime": {
     "end_time": "2021-12-12T20:38:09.340298Z",
     "start_time": "2021-12-12T20:38:06.752299Z"
    }
   },
   "outputs": [],
   "source": [
    "result5 = sample.merge(share_df, on='merge').rename(columns={'target_1': 'target'})[['id', 'target']]"
   ]
  },
  {
   "cell_type": "code",
   "execution_count": 34,
   "metadata": {
    "ExecuteTime": {
     "end_time": "2021-12-12T20:38:11.340299Z",
     "start_time": "2021-12-12T20:38:09.345299Z"
    }
   },
   "outputs": [],
   "source": [
    "result5[['id', 'target']].to_csv('submission5.csv', index=False)"
   ]
  },
  {
   "cell_type": "markdown",
   "metadata": {},
   "source": [
    "# Building the model\n",
    "\n",
    "We will use gradient booting. But first you need to get as many features as possible for each pair of custom elements. Let's take the following signs:\n",
    "\n",
    "1) The share of customer orders, when meeting with the appearance category\n",
    "\n",
    "2) Binary sign - takes the value 1 if there was a category in the last rating\n",
    "\n",
    "3) similar to the 2nd sign, but for the penultimate order\n",
    "\n",
    "4) Popularity of the category - the share of orders of all customers in the category search\n",
    "\n",
    "We also have information about the identifier and the numeric category, which also contain valuable information. One hot encoding if necessary is undesirable, as it will inflate the properties of our space too much, and the essential features will be extremely sparse, so the average target encoding is applied to the user_id and cart variables.\n",
    "\n",
    "5) userid\n",
    "\n",
    "6) trolley\n",
    "\n",
    "For training, we will take the entire selection, except for the last order - the purchase information for it will be dependent"
   ]
  },
  {
   "cell_type": "code",
   "execution_count": 67,
   "metadata": {
    "ExecuteTime": {
     "end_time": "2021-12-11T00:03:34.722674Z",
     "start_time": "2021-12-11T00:03:07.483288Z"
    },
    "scrolled": true
   },
   "outputs": [],
   "source": [
    "df['y'] = 0\n",
    "df['user_id_time'] = list(zip(df['user_id'], df['order_completed_at']))\n",
    "last_ind = np.array(df.groupby(['user_id', 'order_completed_at']).count().groupby('user_id').count()['cart']).cumsum() - 1\n",
    "orders2 = df.groupby(['user_id', 'order_completed_at']).count()\n",
    "last_val_time = list(orders2.iloc[last_ind].reset_index()['order_completed_at'])\n",
    "last_val_id = list(orders2.iloc[last_ind].reset_index()['user_id'])\n",
    "last_val_id_time = list(zip(last_val_id, last_val_time))\n",
    "df.loc[df.query('user_id_time in @last_val_id_time').index, 'y'] = 1\n",
    "df_model = df.drop(df.query('user_id_time in @last_val_id_time').index)    # удалили из выборки последний заказ для каждого id\n",
    "data = df_model.groupby(['user_id', 'cart']).count().reset_index().drop('order_completed_at', axis=1)    # таблица для обучающих данных\n",
    "y = df.groupby(['user_id', 'cart']).sum().loc[df_model.groupby(['user_id', 'cart']).count().index]['y'].values\n",
    "df_model.drop('y', axis=1, inplace=True)\n",
    "data.drop('user_id_time', axis=1, inplace=True)\n",
    "\n",
    "data['y'] = y\n",
    "\n",
    "# Calculate the dependent variable"
   ]
  },
  {
   "cell_type": "code",
   "execution_count": 68,
   "metadata": {
    "ExecuteTime": {
     "end_time": "2021-12-11T00:03:37.144717Z",
     "start_time": "2021-12-11T00:03:34.725675Z"
    }
   },
   "outputs": [],
   "source": [
    "order_num2 = df_model.drop('user_id_time', axis=1).groupby(['user_id', 'order_completed_at']).count().groupby('user_id').count()['cart'].values.reshape(20000,)\n",
    "cat_num2 = df_model.drop('user_id_time', axis=1).groupby(['user_id', 'cart']).count()\n",
    "\n",
    "div = []\n",
    "for i, j in zip(order_num2, np.array(cat_num2.groupby('user_id').count()['order_completed_at'])):\n",
    "    div.append((str(i)+' ') * j)\n",
    "div = np.array(list(map(int, ' '.join(div).split())))\n",
    "share = np.array(cat_num2).reshape(1031269 ,) / div\n",
    "data['share'] = share\n",
    "\n",
    "# Calculate the share of orders"
   ]
  },
  {
   "cell_type": "code",
   "execution_count": 69,
   "metadata": {
    "ExecuteTime": {
     "end_time": "2021-12-11T00:03:46.737519Z",
     "start_time": "2021-12-11T00:03:37.146726Z"
    }
   },
   "outputs": [],
   "source": [
    "df_model['last'] = 0\n",
    "df_model['penult'] = 0\n",
    "\n",
    "orders3 = df_model.groupby(['user_id', 'order_completed_at']).count()\n",
    "\n",
    "last_ind2 = np.array(df_model.groupby(['user_id', 'order_completed_at']).count().groupby('user_id').count()['cart']).cumsum() - 1\n",
    "last_val_id2 = list(orders3.iloc[last_ind2].reset_index()['user_id'])\n",
    "last_val_time2 = list(orders3.iloc[last_ind2].reset_index()['order_completed_at'])\n",
    "last_val_id_time2 = list(zip(last_val_id2, last_val_time2))\n",
    "df_model.loc[df_model.query('user_id_time in @last_val_id_time2').index, 'last'] = 1\n",
    "last = df_model.groupby(['user_id', 'cart']).sum()['last'].values\n",
    "data['last'] = last\n",
    "\n",
    "penult_ind2 = np.array(df_model.groupby(['user_id', 'order_completed_at']).count().groupby('user_id').count()['cart']).cumsum() - 2\n",
    "penult_val_id2 = list(orders3.iloc[penult_ind2].reset_index()['user_id'])\n",
    "penult_val_time2 = list(orders3.iloc[penult_ind2].reset_index()['order_completed_at'])\n",
    "penult_val_id_time2 = list(zip(penult_val_id2, penult_val_time2))\n",
    "df_model.loc[df_model.query('user_id_time in @penult_val_id_time2').index, 'penult'] = 1\n",
    "penult = df_model.groupby(['user_id', 'cart']).sum()['penult'].values\n",
    "data['penult'] = penult\n",
    "\n",
    "# Calculate binary features, whether the category was in the last and penultimate orders"
   ]
  },
  {
   "cell_type": "code",
   "execution_count": 70,
   "metadata": {
    "ExecuteTime": {
     "end_time": "2021-12-11T00:03:49.584044Z",
     "start_time": "2021-12-11T00:03:46.741521Z"
    }
   },
   "outputs": [],
   "source": [
    "pop_cat = df_model.groupby('cart').count()['user_id'] / orders2.groupby('user_id').count()['cart'].sum()\n",
    "data_temp = data.sort_values('cart')\n",
    "\n",
    "pop = []\n",
    "for i, j in zip(pop_cat, np.array(data.sort_values('cart').groupby('cart').count()['user_id'])):\n",
    "    pop.append((str(i)+' ') * j)\n",
    "pop = np.array(list(map(float, ' '.join(pop).split())))\n",
    "data_temp['popularity'] = pop\n",
    "data = data_temp.loc[data.index]\n",
    "\n",
    "# Calculate the popularity of categories"
   ]
  },
  {
   "cell_type": "code",
   "execution_count": 71,
   "metadata": {
    "ExecuteTime": {
     "end_time": "2021-12-11T00:03:57.679418Z",
     "start_time": "2021-12-11T00:03:49.587046Z"
    },
    "scrolled": true
   },
   "outputs": [],
   "source": [
    "from category_encoders.target_encoder import TargetEncoder\n",
    "from sklearn.model_selection import train_test_split\n",
    "\n",
    "X_train, X_test, y_train, y_test = train_test_split(data[['user_id', 'cart', 'share', 'last', 'penult', 'popularity']],data['y'],\n",
    "                                                    test_size=0.2, random_state=1, stratify = data['y'])\n",
    "\n",
    "te1 = TargetEncoder(smoothing=1)\n",
    "X_train['user_id_te'] = te1.fit_transform(X_train['user_id'].astype(str), y_train)\n",
    "X_test['user_id_te'] = te1.transform(X_test['user_id'].astype(str))\n",
    "\n",
    "te2 = TargetEncoder(smoothing=1)\n",
    "X_train['cart_te'] = te2.fit_transform(X_train['cart'].astype(str), y_train)\n",
    "X_test['cart_te'] = te2.transform(X_test['cart'].astype(str))\n",
    "\n",
    "# Convert user_id and cart"
   ]
  },
  {
   "cell_type": "markdown",
   "metadata": {},
   "source": [
    "Next, select the features for the sample"
   ]
  },
  {
   "cell_type": "code",
   "execution_count": 72,
   "metadata": {
    "ExecuteTime": {
     "end_time": "2021-12-11T00:03:59.599452Z",
     "start_time": "2021-12-11T00:03:57.682419Z"
    },
    "scrolled": true
   },
   "outputs": [],
   "source": [
    "data_sample = df_ind.groupby(['user_id', 'cart']).count().reset_index().drop('order_completed_at', axis=1)\n",
    "# prediction table\n",
    "\n",
    "data_sample['share'] = share_df['share']\n",
    "# previously calculated category share in orders"
   ]
  },
  {
   "cell_type": "code",
   "execution_count": 73,
   "metadata": {
    "ExecuteTime": {
     "end_time": "2021-12-11T00:04:21.139091Z",
     "start_time": "2021-12-11T00:03:59.602451Z"
    },
    "scrolled": true
   },
   "outputs": [
    {
     "name": "stderr",
     "output_type": "stream",
     "text": [
      "C:\\Users\\solmi\\anaconda3\\lib\\site-packages\\ipykernel_launcher.py:1: SettingWithCopyWarning: \n",
      "A value is trying to be set on a copy of a slice from a DataFrame.\n",
      "Try using .loc[row_indexer,col_indexer] = value instead\n",
      "\n",
      "See the caveats in the documentation: https://pandas.pydata.org/pandas-docs/stable/user_guide/indexing.html#returning-a-view-versus-a-copy\n",
      "  \"\"\"Entry point for launching an IPython kernel.\n",
      "C:\\Users\\solmi\\anaconda3\\lib\\site-packages\\ipykernel_launcher.py:2: SettingWithCopyWarning: \n",
      "A value is trying to be set on a copy of a slice from a DataFrame.\n",
      "Try using .loc[row_indexer,col_indexer] = value instead\n",
      "\n",
      "See the caveats in the documentation: https://pandas.pydata.org/pandas-docs/stable/user_guide/indexing.html#returning-a-view-versus-a-copy\n",
      "  \n",
      "C:\\Users\\solmi\\anaconda3\\lib\\site-packages\\ipykernel_launcher.py:3: SettingWithCopyWarning: \n",
      "A value is trying to be set on a copy of a slice from a DataFrame.\n",
      "Try using .loc[row_indexer,col_indexer] = value instead\n",
      "\n",
      "See the caveats in the documentation: https://pandas.pydata.org/pandas-docs/stable/user_guide/indexing.html#returning-a-view-versus-a-copy\n",
      "  This is separate from the ipykernel package so we can avoid doing imports until\n",
      "C:\\Users\\solmi\\anaconda3\\lib\\site-packages\\pandas\\core\\indexing.py:1817: SettingWithCopyWarning: \n",
      "A value is trying to be set on a copy of a slice from a DataFrame.\n",
      "Try using .loc[row_indexer,col_indexer] = value instead\n",
      "\n",
      "See the caveats in the documentation: https://pandas.pydata.org/pandas-docs/stable/user_guide/indexing.html#returning-a-view-versus-a-copy\n",
      "  self._setitem_single_column(loc, value, pi)\n",
      "C:\\Users\\solmi\\anaconda3\\lib\\site-packages\\pandas\\core\\indexing.py:1817: SettingWithCopyWarning: \n",
      "A value is trying to be set on a copy of a slice from a DataFrame.\n",
      "Try using .loc[row_indexer,col_indexer] = value instead\n",
      "\n",
      "See the caveats in the documentation: https://pandas.pydata.org/pandas-docs/stable/user_guide/indexing.html#returning-a-view-versus-a-copy\n",
      "  self._setitem_single_column(loc, value, pi)\n"
     ]
    }
   ],
   "source": [
    "df_ind['last'] = 0\n",
    "df_ind['penult'] = 0\n",
    "df_ind['user_id_time'] = list(zip(df_ind['user_id'], df_ind['order_completed_at']))\n",
    "orders = df_ind.groupby(['user_id', 'order_completed_at']).count()\n",
    "\n",
    "last_ind3 = np.array(df_ind.groupby(['user_id', 'order_completed_at']).count().groupby('user_id').count()['cart']).cumsum() - 1\n",
    "last_val_id3 = list(orders.iloc[last_ind3].reset_index()['user_id'])\n",
    "last_val_time3 = list(orders.iloc[last_ind3].reset_index()['order_completed_at'])\n",
    "last_val_id_time3 = list(zip(last_val_id3, last_val_time3))\n",
    "df_ind.loc[df_ind.query('user_id_time in @last_val_id_time3').index, 'last'] = 1\n",
    "last = df_ind.groupby(['user_id', 'cart']).sum()['last'].values\n",
    "data_sample['last'] = last\n",
    "\n",
    "penult_ind3 = np.array(df_ind.groupby(['user_id', 'order_completed_at']).count().groupby('user_id').count()['cart']).cumsum() - 2\n",
    "penult_val_id3 = list(orders.iloc[penult_ind3].reset_index()['user_id'])\n",
    "penult_val_time3 = list(orders.iloc[penult_ind3].reset_index()['order_completed_at'])\n",
    "penult_val_id_time3 = list(zip(penult_val_id3, penult_val_time3))\n",
    "df_ind.loc[df_ind.query('user_id_time in @penult_val_id_time3').index, 'penult'] = 1\n",
    "penult = df_ind.groupby(['user_id', 'cart']).sum()['penult'].values\n",
    "data_sample['penult'] = penult\n",
    "\n",
    "# Calculate binary features, whether the category was in the last and penultimate orders"
   ]
  },
  {
   "cell_type": "code",
   "execution_count": 74,
   "metadata": {
    "ExecuteTime": {
     "end_time": "2021-12-11T00:04:23.817649Z",
     "start_time": "2021-12-11T00:04:21.142092Z"
    }
   },
   "outputs": [],
   "source": [
    "pop_cat = df_ind.groupby('cart').count()['user_id'] / orders2.groupby('user_id').count()['cart'].sum()\n",
    "data_sample_temp = data_sample.sort_values('cart')\n",
    "\n",
    "pop = []\n",
    "for i, j in zip(pop_cat, np.array(data_sample.sort_values('cart').groupby('cart').count()['user_id'])):\n",
    "    pop.append((str(i)+' ') * j)\n",
    "pop = np.array(list(map(float, ' '.join(pop).split())))\n",
    "data_sample_temp['popularity'] = pop\n",
    "data_sample = data_sample_temp.loc[data_sample.index]\n",
    "\n",
    "# Calculate the popularity of categories"
   ]
  },
  {
   "cell_type": "code",
   "execution_count": 75,
   "metadata": {
    "ExecuteTime": {
     "end_time": "2021-12-11T00:04:31.662582Z",
     "start_time": "2021-12-11T00:04:23.820650Z"
    },
    "scrolled": true
   },
   "outputs": [],
   "source": [
    "te1 = TargetEncoder(smoothing=1)\n",
    "data['user_id_te'] = te1.fit_transform(data['user_id'].astype(str), data['y'])\n",
    "data_sample['user_id_te'] = te1.transform(data_sample['user_id'].astype(str))\n",
    "\n",
    "te2 = TargetEncoder(smoothing=1)\n",
    "data['cart_te'] = te2.fit_transform(data['cart'].astype(str), data['y'])\n",
    "data_sample['cart_te'] = te2.transform(data_sample['cart'].astype(str))\n",
    "\n",
    "# Convert user_id and cart"
   ]
  },
  {
   "cell_type": "markdown",
   "metadata": {},
   "source": [
    "The features are selected, now let's train the model"
   ]
  },
  {
   "cell_type": "code",
   "execution_count": 77,
   "metadata": {
    "ExecuteTime": {
     "end_time": "2021-12-11T11:18:29.354129Z",
     "start_time": "2021-12-11T10:28:10.231136Z"
    }
   },
   "outputs": [
    {
     "name": "stdout",
     "output_type": "stream",
     "text": [
      "reg_alpha: 8.858667904100823, valid F1 score: 0.4040\n"
     ]
    }
   ],
   "source": [
    "from sklearn.model_selection import GridSearchCV\n",
    "import lightgbm as lgb\n",
    "from sklearn.metrics import f1_score\n",
    "\n",
    "n_estimators = np.append(np.array(list(range(40, 121, 40))), np.array([500, 1000]))\n",
    "num_leaves = np.array(list(range(10, 71, 10)))\n",
    "\n",
    "searcher = GridSearchCV(lgb.LGBMClassifier(objective=\"binary\"),\n",
    "                        [{'n_estimators' : n_estimators, 'num_leaves' : num_leaves}],\n",
    "                            scoring = 'f1', cv = 5)\n",
    "searcher.fit(X_train, y_train)\n",
    "y_pred = searcher.predict(X_test)\n",
    "    \n",
    "print(\"n_estimators: {}, num_leaves: {}, valid F1 score: {:.4f}\".format(searcher.best_params_['n_estimators'], searcher.best_params_['num_leaves'], f1_score(y_test, y_pred)))"
   ]
  },
  {
   "cell_type": "code",
   "execution_count": 80,
   "metadata": {
    "ExecuteTime": {
     "end_time": "2021-12-11T11:25:12.197197Z",
     "start_time": "2021-12-11T11:22:02.856198Z"
    }
   },
   "outputs": [
    {
     "data": {
      "text/plain": [
       "array([0.37488643, 0.39263397, 0.40924531, 0.45170095, 0.48964472])"
      ]
     },
     "execution_count": 80,
     "metadata": {},
     "output_type": "execute_result"
    }
   ],
   "source": [
    "from sklearn.model_selection import cross_val_score\n",
    "cross_val_score(lgb.LGBMClassifier(objective=\"binary\", n_estimators=searcher.best_params_['n_estimators'], num_leaves = searcher.best_params_['num_leaves']), data[['user_id_te', 'cart_te', 'share', 'last', 'penult', 'popularity']], data['y'], cv=5, scoring='f1')"
   ]
  },
  {
   "cell_type": "code",
   "execution_count": 81,
   "metadata": {
    "ExecuteTime": {
     "end_time": "2021-12-11T11:25:24.279202Z",
     "start_time": "2021-12-11T11:25:20.973197Z"
    }
   },
   "outputs": [],
   "source": [
    "data_sample['merge'] = list(zip(data_sample['user_id'], data_sample['cart']))\n",
    "data_sample = sample.merge(data_sample, on='merge')"
   ]
  },
  {
   "cell_type": "code",
   "execution_count": 83,
   "metadata": {
    "ExecuteTime": {
     "end_time": "2021-12-11T11:27:38.853749Z",
     "start_time": "2021-12-11T11:26:36.012751Z"
    }
   },
   "outputs": [],
   "source": [
    "booster = lgb.LGBMClassifier(objective=\"binary\", n_estimators=searcher.best_params_['n_estimators'], num_leaves = searcher.best_params_['num_leaves'])\n",
    "booster.fit(data[['user_id_te', 'cart_te', 'share', 'last', 'penult', 'popularity']], data['y'])\n",
    "target = booster.predict(data_sample[['user_id_te', 'cart_te', 'share', 'last', 'penult', 'popularity']])"
   ]
  },
  {
   "cell_type": "code",
   "execution_count": 84,
   "metadata": {
    "ExecuteTime": {
     "end_time": "2021-12-11T11:27:48.406796Z",
     "start_time": "2021-12-11T11:27:48.393753Z"
    }
   },
   "outputs": [],
   "source": [
    "sample['target'] = target"
   ]
  },
  {
   "cell_type": "code",
   "execution_count": 85,
   "metadata": {
    "ExecuteTime": {
     "end_time": "2021-12-11T11:27:58.997750Z",
     "start_time": "2021-12-11T11:27:57.484750Z"
    }
   },
   "outputs": [],
   "source": [
    "sample[['id', 'target']].to_csv('submission9.csv', index=False)"
   ]
  }
 ],
 "metadata": {
  "kernelspec": {
   "display_name": "Python 3",
   "language": "python",
   "name": "python3"
  },
  "language_info": {
   "codemirror_mode": {
    "name": "ipython",
    "version": 3
   },
   "file_extension": ".py",
   "mimetype": "text/x-python",
   "name": "python",
   "nbconvert_exporter": "python",
   "pygments_lexer": "ipython3",
   "version": "3.7.6"
  },
  "toc": {
   "base_numbering": 1,
   "nav_menu": {},
   "number_sections": true,
   "sideBar": true,
   "skip_h1_title": false,
   "title_cell": "Table of Contents",
   "title_sidebar": "Contents",
   "toc_cell": false,
   "toc_position": {},
   "toc_section_display": true,
   "toc_window_display": false
  },
  "varInspector": {
   "cols": {
    "lenName": 16,
    "lenType": 16,
    "lenVar": 40
   },
   "kernels_config": {
    "python": {
     "delete_cmd_postfix": "",
     "delete_cmd_prefix": "del ",
     "library": "var_list.py",
     "varRefreshCmd": "print(var_dic_list())"
    },
    "r": {
     "delete_cmd_postfix": ") ",
     "delete_cmd_prefix": "rm(",
     "library": "var_list.r",
     "varRefreshCmd": "cat(var_dic_list()) "
    }
   },
   "types_to_exclude": [
    "module",
    "function",
    "builtin_function_or_method",
    "instance",
    "_Feature"
   ],
   "window_display": false
  }
 },
 "nbformat": 4,
 "nbformat_minor": 2
}
